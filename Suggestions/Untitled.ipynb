{
 "cells": [
  {
   "cell_type": "code",
   "execution_count": 2,
   "metadata": {},
   "outputs": [],
   "source": [
    "import tensorflow as tf\n",
    "import numpy as np"
   ]
  },
  {
   "cell_type": "code",
   "execution_count": 27,
   "metadata": {},
   "outputs": [],
   "source": [
    "x = tf.placeholder(tf.float32, shape=[None, 512])\n",
    "y = tf.placeholder(tf.float32, shape=[None, 32])\n",
    "\n",
    "dense1 = tf.layers.dense(y, 512, activation=tf.nn.relu)\n",
    "\n",
    "lstm = tf.contrib.rnn.BasicLSTMCell(1024)\n",
    "\n",
    "initial_state = tf.zeros([1, 1024])\n",
    "input_x = tf.concat([x, dense1], 1)\n",
    "\n",
    "dense2 = tf.layers.Dense(10)"
   ]
  },
  {
   "cell_type": "code",
   "execution_count": 22,
   "metadata": {},
   "outputs": [
    {
     "name": "stdout",
     "output_type": "stream",
     "text": [
      "(array([[1.],\n",
      "       [2.]], dtype=float32), array([[1.]], dtype=float32), array([[2.]], dtype=float32))\n"
     ]
    }
   ],
   "source": [
    "with tf.Session() as sess:\n",
    "    result = sess.run((concat, x, y), feed_dict={x:[[1]], y:[[2]]})\n",
    "    print(result)"
   ]
  },
  {
   "cell_type": "code",
   "execution_count": null,
   "metadata": {},
   "outputs": [],
   "source": []
  }
 ],
 "metadata": {
  "kernelspec": {
   "display_name": "Python 3",
   "language": "python",
   "name": "python3"
  },
  "language_info": {
   "codemirror_mode": {
    "name": "ipython",
    "version": 3
   },
   "file_extension": ".py",
   "mimetype": "text/x-python",
   "name": "python",
   "nbconvert_exporter": "python",
   "pygments_lexer": "ipython3",
   "version": "3.5.5"
  }
 },
 "nbformat": 4,
 "nbformat_minor": 2
}
